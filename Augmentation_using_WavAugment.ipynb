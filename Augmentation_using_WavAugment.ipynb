{
  "nbformat": 4,
  "nbformat_minor": 0,
  "metadata": {
    "colab": {
      "provenance": [],
      "collapsed_sections": [
        "6jieDzPJ-pB8"
      ]
    },
    "kernelspec": {
      "display_name": "Python 3",
      "name": "python3"
    }
  },
  "cells": [
    {
      "cell_type": "code",
      "metadata": {
        "colab": {
          "base_uri": "https://localhost:8080/"
        },
        "id": "IVyN3ikvIqZN",
        "outputId": "44f75acb-7d96-4741-a2a7-10a71f98bebe"
      },
      "source": [
        "!apt-get install libsox-fmt-all libsox-dev sox > /dev/null\n",
        "! python -m pip install torchaudio > /dev/null\n",
        "! python -m pip install git+https://github.com/facebookresearch/WavAugment.git > /dev/null"
      ],
      "execution_count": null,
      "outputs": [
        {
          "output_type": "stream",
          "name": "stdout",
          "text": [
            "  Running command git clone -q https://github.com/facebookresearch/WavAugment.git /tmp/pip-req-build-iac4aeiq\n"
          ]
        }
      ]
    },
    {
      "cell_type": "code",
      "metadata": {
        "id": "4vDTc6HJIFi7"
      },
      "source": [
        "import torchaudio\n",
        "import torch\n",
        "import augment\n",
        "import numpy as np\n",
        "from os import listdir\n",
        "from os.path import isfile, join\n",
        "import IPython.display as ipd\n",
        "import os"
      ],
      "execution_count": null,
      "outputs": []
    },
    {
      "cell_type": "code",
      "metadata": {
        "id": "2dSO9MtPOTu0"
      },
      "source": [
        "def wavaugment_without_noise(x,sr):\n",
        "  combination = augment.EffectChain() \\\n",
        "    .pitch(\"-q\", random_pitch_shift).rate(sr) \\\n",
        "    .reverb(60, 60, random_room_size).channels(1) \\\n",
        "    .time_dropout(max_seconds=1.0)\n",
        "  y = combination.apply(x, src_info={'rate': sr}, target_info={'rate': sr})\n",
        "  return y\n",
        "  #ipd.Audio(y, rate=sr)"
      ],
      "execution_count": null,
      "outputs": []
    },
    {
      "cell_type": "markdown",
      "metadata": {
        "id": "6jieDzPJ-pB8"
      },
      "source": [
        "###Based on Template"
      ]
    },
    {
      "cell_type": "code",
      "metadata": {
        "id": "DjDZyNqRUyUc"
      },
      "source": [
        "mypath = \"/content/drive/MyDrive/Vocal Dataset\"\n",
        "filenames = [f for f in listdir(mypath) if (isfile(join(mypath, f)) and f.endswith('.wav'))] "
      ],
      "execution_count": null,
      "outputs": []
    },
    {
      "cell_type": "code",
      "metadata": {
        "id": "wMjyfMToWBrL"
      },
      "source": [
        "\n",
        "\n",
        "mypath2 = \"/content/drive/MyDrive/Vocal Dataset/Expansion\"\n",
        "filenames = [f for f in listdir(mypath) if (isfile(join(mypath, f)) and f.endswith('.wav'))] \n",
        "\n",
        "labels = []\n",
        "filetitle = []\n",
        "for filename in os.listdir(mypath):\n",
        "    if filename.endswith('.wav'):\n",
        "      label = filename.split('_')[0]\n",
        "      filetitle.append(filename.split('.')[0])\n",
        "      labels.append(label)"
      ],
      "execution_count": null,
      "outputs": []
    },
    {
      "cell_type": "code",
      "metadata": {
        "id": "I1eZbVuuWwQz"
      },
      "source": [
        "filepaths = [join(mypath, f) for f in filenames] "
      ],
      "execution_count": null,
      "outputs": []
    },
    {
      "cell_type": "code",
      "metadata": {
        "colab": {
          "base_uri": "https://localhost:8080/"
        },
        "id": "2GW4y0N-km2m",
        "outputId": "fe07b811-b44d-4655-bee3-be9296cbc91f"
      },
      "source": [
        "%cd /content/drive/MyDrive/Vocal Dataset/Augment Demo"
      ],
      "execution_count": null,
      "outputs": [
        {
          "output_type": "stream",
          "name": "stdout",
          "text": [
            "/content/drive/MyDrive/Vocal Dataset/Augment Demo\n"
          ]
        }
      ]
    },
    {
      "cell_type": "code",
      "metadata": {
        "colab": {
          "base_uri": "https://localhost:8080/"
        },
        "id": "_-zfU1pHD_4L",
        "outputId": "9782d10c-bb37-4f9e-97c5-fb305b38467b"
      },
      "source": [
        "filepaths"
      ],
      "execution_count": null,
      "outputs": [
        {
          "output_type": "execute_result",
          "data": {
            "text/plain": [
              "['/content/drive/MyDrive/Vocal Dataset/Expansion/Bass_3.wav',\n",
              " '/content/drive/MyDrive/Vocal Dataset/Expansion/Bass_1.wav',\n",
              " '/content/drive/MyDrive/Vocal Dataset/Expansion/Bass_4.wav',\n",
              " '/content/drive/MyDrive/Vocal Dataset/Expansion/Bass_2.wav',\n",
              " '/content/drive/MyDrive/Vocal Dataset/Expansion/Bass_5.wav',\n",
              " '/content/drive/MyDrive/Vocal Dataset/Expansion/Tenor_1.wav',\n",
              " '/content/drive/MyDrive/Vocal Dataset/Expansion/Tenor_2.wav',\n",
              " '/content/drive/MyDrive/Vocal Dataset/Expansion/Tenor_3.wav',\n",
              " '/content/drive/MyDrive/Vocal Dataset/Expansion/Tenor_4.wav',\n",
              " '/content/drive/MyDrive/Vocal Dataset/Expansion/Tenor_5.wav',\n",
              " '/content/drive/MyDrive/Vocal Dataset/Expansion/Tenor_6.wav',\n",
              " '/content/drive/MyDrive/Vocal Dataset/Expansion/Tenor_7.wav',\n",
              " '/content/drive/MyDrive/Vocal Dataset/Expansion/Tenor_8.wav',\n",
              " '/content/drive/MyDrive/Vocal Dataset/Expansion/Tenor_9.wav',\n",
              " '/content/drive/MyDrive/Vocal Dataset/Expansion/Tenor_10.wav',\n",
              " '/content/drive/MyDrive/Vocal Dataset/Expansion/Tenor_11.wav',\n",
              " '/content/drive/MyDrive/Vocal Dataset/Expansion/Tenor_12.wav',\n",
              " '/content/drive/MyDrive/Vocal Dataset/Expansion/Tenor_13.wav',\n",
              " '/content/drive/MyDrive/Vocal Dataset/Expansion/Tenor_14.wav',\n",
              " '/content/drive/MyDrive/Vocal Dataset/Expansion/Tenor_15.wav',\n",
              " '/content/drive/MyDrive/Vocal Dataset/Expansion/Sopran_2.wav',\n",
              " '/content/drive/MyDrive/Vocal Dataset/Expansion/Sopran_3.wav',\n",
              " '/content/drive/MyDrive/Vocal Dataset/Expansion/Sopran_4.wav',\n",
              " '/content/drive/MyDrive/Vocal Dataset/Expansion/Sopran_5.wav',\n",
              " '/content/drive/MyDrive/Vocal Dataset/Expansion/Alto_1.wav',\n",
              " '/content/drive/MyDrive/Vocal Dataset/Expansion/Alto_2.wav',\n",
              " '/content/drive/MyDrive/Vocal Dataset/Expansion/Alto_3.wav',\n",
              " '/content/drive/MyDrive/Vocal Dataset/Expansion/Alto_4.wav',\n",
              " '/content/drive/MyDrive/Vocal Dataset/Expansion/Alto_5.wav',\n",
              " '/content/drive/MyDrive/Vocal Dataset/Expansion/Alto_6.wav',\n",
              " '/content/drive/MyDrive/Vocal Dataset/Expansion/Alto_7.wav',\n",
              " '/content/drive/MyDrive/Vocal Dataset/Expansion/Alto_8.wav',\n",
              " '/content/drive/MyDrive/Vocal Dataset/Expansion/Alto_9.wav',\n",
              " '/content/drive/MyDrive/Vocal Dataset/Expansion/Alto_10.wav',\n",
              " '/content/drive/MyDrive/Vocal Dataset/Expansion/Bass_6.wav',\n",
              " '/content/drive/MyDrive/Vocal Dataset/Expansion/Bass_7.wav',\n",
              " '/content/drive/MyDrive/Vocal Dataset/Expansion/Bass_8.wav',\n",
              " '/content/drive/MyDrive/Vocal Dataset/Expansion/Bass_9.wav',\n",
              " '/content/drive/MyDrive/Vocal Dataset/Expansion/Bass_10.wav',\n",
              " '/content/drive/MyDrive/Vocal Dataset/Expansion/Sopran_6.wav',\n",
              " '/content/drive/MyDrive/Vocal Dataset/Expansion/Sopran_7.wav',\n",
              " '/content/drive/MyDrive/Vocal Dataset/Expansion/Sopran_8.wav',\n",
              " '/content/drive/MyDrive/Vocal Dataset/Expansion/Sopran_9.wav',\n",
              " '/content/drive/MyDrive/Vocal Dataset/Expansion/Sopran_10.wav',\n",
              " '/content/drive/MyDrive/Vocal Dataset/Expansion/Bass_11.wav',\n",
              " '/content/drive/MyDrive/Vocal Dataset/Expansion/Bass_12.wav',\n",
              " '/content/drive/MyDrive/Vocal Dataset/Expansion/Bass_13.wav',\n",
              " '/content/drive/MyDrive/Vocal Dataset/Expansion/Bass_14.wav',\n",
              " '/content/drive/MyDrive/Vocal Dataset/Expansion/Bass_15.wav',\n",
              " '/content/drive/MyDrive/Vocal Dataset/Expansion/Sopran_1.wav']"
            ]
          },
          "metadata": {},
          "execution_count": 40
        }
      ]
    },
    {
      "cell_type": "code",
      "metadata": {
        "id": "wFZqHO6AB7Rh"
      },
      "source": [
        "count = 0\n",
        "for file_name in filepaths:\n",
        "  x, sr = torchaudio.load(file_name)\n",
        "  count += 1"
      ],
      "execution_count": null,
      "outputs": []
    },
    {
      "cell_type": "code",
      "metadata": {
        "colab": {
          "base_uri": "https://localhost:8080/"
        },
        "id": "5eoRzk67-cxL",
        "outputId": "1f76bf31-baad-4bea-ec49-587dc76f97cc"
      },
      "source": [
        "count"
      ],
      "execution_count": null,
      "outputs": [
        {
          "output_type": "execute_result",
          "data": {
            "text/plain": [
              "50"
            ]
          },
          "metadata": {},
          "execution_count": 13
        }
      ]
    },
    {
      "cell_type": "code",
      "metadata": {
        "id": "99JXWoD9UnK_",
        "colab": {
          "base_uri": "https://localhost:8080/",
          "height": 378
        },
        "outputId": "02d90405-09f1-4c3d-8f09-a7c3d13b5a81"
      },
      "source": [
        "num = 0\n",
        "for file_name in filepaths:\n",
        "  x, sr = torchaudio.load(file_name)\n",
        "  random_pitch_shift = lambda: np.random.randint(-50, +100)\n",
        "  random_room_size = lambda: np.random.randint(0, 101)\n",
        "  random_reverb = augment.EffectChain().reverb(50, 50, random_room_size).channels(1)\n",
        "  for i in range(2):\n",
        "    y = wavaugment_without_noise(x, sr)\n",
        "    torchaudio.save(filetitle[num]+f'_augment_{i}.wav', y, sr)\n",
        "  num+=1"
      ],
      "execution_count": null,
      "outputs": [
        {
          "output_type": "error",
          "ename": "RuntimeError",
          "evalue": "ignored",
          "traceback": [
            "\u001b[0;31m---------------------------------------------------------------------------\u001b[0m",
            "\u001b[0;31mRuntimeError\u001b[0m                              Traceback (most recent call last)",
            "\u001b[0;32m<ipython-input-48-3fa64d6e8f5f>\u001b[0m in \u001b[0;36m<module>\u001b[0;34m()\u001b[0m\n\u001b[1;32m      1\u001b[0m \u001b[0mnum\u001b[0m \u001b[0;34m=\u001b[0m \u001b[0;36m0\u001b[0m\u001b[0;34m\u001b[0m\u001b[0;34m\u001b[0m\u001b[0m\n\u001b[1;32m      2\u001b[0m \u001b[0;32mfor\u001b[0m \u001b[0mfile_name\u001b[0m \u001b[0;32min\u001b[0m \u001b[0mfilepaths\u001b[0m\u001b[0;34m:\u001b[0m\u001b[0;34m\u001b[0m\u001b[0;34m\u001b[0m\u001b[0m\n\u001b[0;32m----> 3\u001b[0;31m   \u001b[0mx\u001b[0m\u001b[0;34m,\u001b[0m \u001b[0msr\u001b[0m \u001b[0;34m=\u001b[0m \u001b[0mtorchaudio\u001b[0m\u001b[0;34m.\u001b[0m\u001b[0mload\u001b[0m\u001b[0;34m(\u001b[0m\u001b[0mfile_name\u001b[0m\u001b[0;34m)\u001b[0m\u001b[0;34m\u001b[0m\u001b[0;34m\u001b[0m\u001b[0m\n\u001b[0m\u001b[1;32m      4\u001b[0m   \u001b[0mrandom_pitch_shift\u001b[0m \u001b[0;34m=\u001b[0m \u001b[0;32mlambda\u001b[0m\u001b[0;34m:\u001b[0m \u001b[0mnp\u001b[0m\u001b[0;34m.\u001b[0m\u001b[0mrandom\u001b[0m\u001b[0;34m.\u001b[0m\u001b[0mrandint\u001b[0m\u001b[0;34m(\u001b[0m\u001b[0;34m-\u001b[0m\u001b[0;36m50\u001b[0m\u001b[0;34m,\u001b[0m \u001b[0;34m+\u001b[0m\u001b[0;36m100\u001b[0m\u001b[0;34m)\u001b[0m\u001b[0;34m\u001b[0m\u001b[0;34m\u001b[0m\u001b[0m\n\u001b[1;32m      5\u001b[0m   \u001b[0mrandom_room_size\u001b[0m \u001b[0;34m=\u001b[0m \u001b[0;32mlambda\u001b[0m\u001b[0;34m:\u001b[0m \u001b[0mnp\u001b[0m\u001b[0;34m.\u001b[0m\u001b[0mrandom\u001b[0m\u001b[0;34m.\u001b[0m\u001b[0mrandint\u001b[0m\u001b[0;34m(\u001b[0m\u001b[0;36m0\u001b[0m\u001b[0;34m,\u001b[0m \u001b[0;36m101\u001b[0m\u001b[0;34m)\u001b[0m\u001b[0;34m\u001b[0m\u001b[0;34m\u001b[0m\u001b[0m\n",
            "\u001b[0;32m/usr/local/lib/python3.7/dist-packages/torchaudio/backend/sox_io_backend.py\u001b[0m in \u001b[0;36mload\u001b[0;34m(filepath, frame_offset, num_frames, normalize, channels_first, format)\u001b[0m\n\u001b[1;32m    151\u001b[0m         \u001b[0mfilepath\u001b[0m \u001b[0;34m=\u001b[0m \u001b[0mos\u001b[0m\u001b[0;34m.\u001b[0m\u001b[0mfspath\u001b[0m\u001b[0;34m(\u001b[0m\u001b[0mfilepath\u001b[0m\u001b[0;34m)\u001b[0m\u001b[0;34m\u001b[0m\u001b[0;34m\u001b[0m\u001b[0m\n\u001b[1;32m    152\u001b[0m     return torch.ops.torchaudio.sox_io_load_audio_file(\n\u001b[0;32m--> 153\u001b[0;31m         filepath, frame_offset, num_frames, normalize, channels_first, format)\n\u001b[0m\u001b[1;32m    154\u001b[0m \u001b[0;34m\u001b[0m\u001b[0m\n\u001b[1;32m    155\u001b[0m \u001b[0;34m\u001b[0m\u001b[0m\n",
            "\u001b[0;31mRuntimeError\u001b[0m: Error loading audio file: failed to open file /content/drive/MyDrive/Vocal Dataset/Expansion/Bass_3.wav"
          ]
        }
      ]
    },
    {
      "cell_type": "code",
      "metadata": {
        "id": "slVRlfYSB6Wb"
      },
      "source": [
        "filenames2 = [f for f in listdir(mypath+'/Augmentation') if (isfile(join(mypath+'/Augmentation', f)) and f.endswith('.wav'))] \n",
        "filepaths2 = [join(mypath+'/Augmentation', f) for f in filenames2] "
      ],
      "execution_count": null,
      "outputs": []
    },
    {
      "cell_type": "code",
      "metadata": {
        "id": "7JGrIGTRDYcL"
      },
      "source": [
        "count = 0\n",
        "for file_name in filepaths2:\n",
        "  count += 1"
      ],
      "execution_count": null,
      "outputs": []
    },
    {
      "cell_type": "code",
      "metadata": {
        "colab": {
          "base_uri": "https://localhost:8080/"
        },
        "id": "vJjl2aLKDjyU",
        "outputId": "881f5799-9279-4125-c94a-c71b07285a21"
      },
      "source": [
        "count"
      ],
      "execution_count": null,
      "outputs": [
        {
          "output_type": "execute_result",
          "data": {
            "text/plain": [
              "2500"
            ]
          },
          "metadata": {
            "tags": []
          },
          "execution_count": 14
        }
      ]
    },
    {
      "cell_type": "markdown",
      "metadata": {
        "id": "1yrnV_Av-j8I"
      },
      "source": [
        "###Random Basic Tone"
      ]
    },
    {
      "cell_type": "code",
      "metadata": {
        "colab": {
          "base_uri": "https://localhost:8080/"
        },
        "id": "MxsiOJqSIEZI",
        "outputId": "d0b0b7fd-1f71-4d36-c767-29a8a2b7eb20"
      },
      "source": [
        "%cd /content/drive/MyDrive/Vocal Dataset/Augment Demo"
      ],
      "execution_count": null,
      "outputs": [
        {
          "output_type": "stream",
          "name": "stdout",
          "text": [
            "/content/drive/MyDrive/Vocal Dataset/Augment Demo\n"
          ]
        }
      ]
    },
    {
      "cell_type": "code",
      "metadata": {
        "id": "1FuiiQaVfXoQ"
      },
      "source": [
        "mypath = \"/content/drive/MyDrive/Vocal Dataset/Expansion\"\n",
        "filenames = [f for f in listdir(mypath) if (isfile(join(mypath, f)) and f.endswith('.wav'))] \n",
        "\n",
        "labels = []\n",
        "filetitle = []\n",
        "for filename in os.listdir(mypath):\n",
        "    if filename.endswith('.wav'):\n",
        "      label = filename.split('_')[0]\n",
        "      filetitle.append(filename.split('.')[0])\n",
        "      labels.append(label)"
      ],
      "execution_count": null,
      "outputs": []
    },
    {
      "cell_type": "code",
      "metadata": {
        "id": "-zCJI4jUOkVQ"
      },
      "source": [
        "filepaths2 = [join(mypath, f) for f in filenames] "
      ],
      "execution_count": null,
      "outputs": []
    },
    {
      "cell_type": "code",
      "metadata": {
        "id": "poacr_OpOle6"
      },
      "source": [
        "num = 0\n",
        "for file_name in filepaths2:\n",
        "  x, sr = torchaudio.load(file_name)\n",
        "  random_pitch_shift = lambda: np.random.randint(-100, +100)\n",
        "  noise_generator = lambda: torch.zeros_like(x).uniform_()\n",
        "  random_room_size = lambda: np.random.randint(0, 101)\n",
        "  random_reverb = augment.EffectChain().reverb(60, 60, random_room_size).channels(1)\n",
        "  for i in range(2):\n",
        "    y = wavaugment_without_noise(x, sr)\n",
        "    torchaudio.save(filetitle[num]+f'_augment_{i}.wav', y, sr)\n",
        "  num+=1"
      ],
      "execution_count": null,
      "outputs": []
    },
    {
      "cell_type": "code",
      "metadata": {
        "id": "1j6CU6LP6iym"
      },
      "source": [
        "mypath = \"/content/drive/MyDrive/Vocal Dataset\"\n",
        "filenames2 = [f for f in listdir(mypath+'/Augmentation3') if (isfile(join(mypath+'/Augmentation3', f)) and f.endswith('.wav'))] \n",
        "filepaths2 = [join(mypath+'/Augmentation3', f) for f in filenames2] "
      ],
      "execution_count": null,
      "outputs": []
    },
    {
      "cell_type": "code",
      "metadata": {
        "id": "Q_aCUPH4UqXu"
      },
      "source": [
        "count = 0\n",
        "for file_name in filepaths2:\n",
        "  count += 1"
      ],
      "execution_count": null,
      "outputs": []
    },
    {
      "cell_type": "code",
      "metadata": {
        "colab": {
          "base_uri": "https://localhost:8080/"
        },
        "id": "g06k4hJw8EpR",
        "outputId": "5e77b7b3-b713-4eaf-c08e-fee67d6debd8"
      },
      "source": [
        "count"
      ],
      "execution_count": null,
      "outputs": [
        {
          "output_type": "execute_result",
          "data": {
            "text/plain": [
              "3300"
            ]
          },
          "metadata": {
            "tags": []
          },
          "execution_count": 19
        }
      ]
    }
  ]
}